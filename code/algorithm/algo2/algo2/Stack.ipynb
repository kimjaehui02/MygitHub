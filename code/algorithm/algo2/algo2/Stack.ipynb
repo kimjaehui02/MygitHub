{
  "nbformat": 4,
  "nbformat_minor": 0,
  "metadata": {
    "colab": {
      "name": "3. [Ch 6. Stack].ipynb",
      "provenance": [],
      "collapsed_sections": []
    },
    "kernelspec": {
      "name": "python3",
      "display_name": "Python 3"
    },
    "language_info": {
      "name": "python"
    }
  },
  "cells": [
    {
      "cell_type": "code",
      "source": [
        "class ListStack:\n",
        "\tdef __init__(self):\n",
        "\t\tself.__stack = []\n",
        "\n",
        "\tdef push(self, x):\n",
        "\t\tself.__stack.append(x)\n",
        "\n",
        "\tdef pop(self):\n",
        "\t\treturn self.__stack.pop()\n",
        "\n",
        "\tdef top(self):\n",
        "\t\tif self.isEmpty():\n",
        "\t\t\treturn None\n",
        "\t\telse:\n",
        "\t\t\treturn self.__stack[-1]\n",
        "\n",
        "\tdef isEmpty(self) -> bool:\n",
        "\t\treturn not bool(self.__stack)\n",
        "\n",
        "\tdef popAll(self):\n",
        "\t\tself.__stack.clear() \n",
        "\n",
        "\tdef printStack(self):\n",
        "\t\tprint(\"Stack from top:\", end = ' ')\n",
        "\t\tfor i in range(len(self.__stack)-1, -1, -1):\n",
        "\t\t\tprint(self.__stack[i], end = ' ')\n",
        "\t\tprint()\n",
        "\n",
        "# 코드 6-6"
      ],
      "metadata": {
        "id": "aTa5APIe0-cH"
      },
      "execution_count": 1,
      "outputs": []
    },
    {
      "cell_type": "code",
      "source": [
        "class ListQueue:\n",
        "\tdef __init__(self):\n",
        "\t\tself.__queue = []\n",
        "\n",
        "\tdef enqueue(self, x):\n",
        "\t\tself.__queue.append(x)\n",
        "\n",
        "\tdef dequeue(self):\n",
        "\t\treturn self.__queue.pop(0) # .pop(0): 리스트의 첫 원소를 삭제한 후 원소 리턴\n",
        "\n",
        "\tdef front(self):\n",
        "\t\tif self.isEmpty():\n",
        "\t\t\treturn None\n",
        "\t\telse:\n",
        "\t\t\treturn self.__queue[0]\n",
        "\n",
        "\tdef isEmpty(self) -> bool:\n",
        "\t\treturn (len(self.__queue) == 0);\n",
        " \n",
        "\tdef dequeueAll(self):\n",
        "\t\tself.__queue.clear()\n",
        "\n",
        "\tdef printQueue(self):\n",
        "\t\tprint(\"Queue from front:\", end = ' ')\n",
        "\t\tfor i in range(len(self.__queue)):\n",
        "\t\t\tprint(self.__queue[i], end = ' ')\n",
        "\t\tprint()\n"
      ],
      "metadata": {
        "id": "sD9m8Flm5G4_"
      },
      "execution_count": 2,
      "outputs": []
    },
    {
      "cell_type": "code",
      "execution_count": 3,
      "metadata": {
        "id": "quw3Na7R07OB",
        "colab": {
          "base_uri": "https://localhost:8080/"
        },
        "outputId": "1e578a65-5809-40cd-d904-1b22c6644e4e"
      },
      "outputs": [
        {
          "output_type": "stream",
          "name": "stdout",
          "text": [
            "Palindrome Check!\n",
            "lioninoil  is Palindrome?:  True\n"
          ]
        }
      ],
      "source": [
        "# from DS.stack.listStack import *\n",
        "# from DS.queue.listQueue import *\n",
        "\n",
        "def isPalindrome(A) -> bool:\n",
        "\ts = ListStack()\n",
        "\tq = ListQueue()\n",
        " \n",
        "\tfor i in range(len(A)):\n",
        "\t\ts.push(A[i])\n",
        "\t\tq.enqueue(A[i])\n",
        "\n",
        "\twhile (not q.isEmpty()) and s.pop() == q.dequeue():\n",
        "\t\t{}\n",
        "\n",
        "\tif q.isEmpty():\n",
        "\t\treturn True\n",
        "\telse:\n",
        "\t\treturn False\n",
        "\n",
        "def main():\n",
        "\tprint(\"Palindrome Check!\")\n",
        "\tstr = 'lioninoil' # 테스트 문자열\n",
        "\tt = isPalindrome(str)\n",
        "\tprint(str, \" is Palindrome?: \", t)\n",
        "\n",
        "if __name__ == \"__main__\":\n",
        "\tmain()"
      ]
    },
    {
      "cell_type": "code",
      "source": [
        "def parenBalance(s) ->bool:\n",
        "  print(s)\n",
        "  stack = ListStack()\n",
        "  for i in range(len(s)):\n",
        "    if s[i] == '(' or s[i] == ')':\n",
        "      if stack.top() == '(' and s[i] == ')':\n",
        "        stack.pop()\n",
        "      else:\n",
        "        stack.push(s[i]) \n",
        "  print(stack.printStack())\n",
        "  if stack.isEmpty() == True:\n",
        "    print('괄호가 맞아 떨어집니다++++++++++++++++++++++++++++++++++++++++++++')\n",
        "    return True\n",
        "  else :\n",
        "    print('괄호가 맞지 않습니다----------------------------------------')\n",
        "    return False\n",
        "\n",
        "\n",
        "parenBalance(\"1((3(4))6)7\")\n",
        "parenBalance(\"((안녕) 하세요() 반갑 (습니다))\")\n",
        "\n",
        "print()\n",
        "print('틀린 문제들')\n",
        "print()\n",
        "\n",
        "parenBalance(\")(틀린 모양 (((같습니다)))\")\n",
        "parenBalance(\"(((순서는))())()(()) (중요합니다\")\n"
      ],
      "metadata": {
        "id": "V5HR86TsVIgZ",
        "colab": {
          "base_uri": "https://localhost:8080/"
        },
        "outputId": "08e0cfb5-c560-43d4-bbe2-0895acf140ce"
      },
      "execution_count": 4,
      "outputs": [
        {
          "output_type": "stream",
          "name": "stdout",
          "text": [
            "1((3(4))6)7\n",
            "Stack from top: \n",
            "None\n",
            "괄호가 맞아 떨어집니다++++++++++++++++++++++++++++++++++++++++++++\n",
            "((안녕) 하세요() 반갑 (습니다))\n",
            "Stack from top: \n",
            "None\n",
            "괄호가 맞아 떨어집니다++++++++++++++++++++++++++++++++++++++++++++\n",
            "\n",
            "틀린 문제들\n",
            "\n",
            ")(틀린 모양 (((같습니다)))\n",
            "Stack from top: ( ) \n",
            "None\n",
            "괄호가 맞지 않습니다----------------------------------------\n",
            "(((순서는))())()(()) (중요합니다\n",
            "Stack from top: ( \n",
            "None\n",
            "괄호가 맞지 않습니다----------------------------------------\n"
          ]
        },
        {
          "output_type": "execute_result",
          "data": {
            "text/plain": [
              "False"
            ]
          },
          "metadata": {},
          "execution_count": 4
        }
      ]
    },
    {
      "cell_type": "code",
      "source": [
        ""
      ],
      "metadata": {
        "id": "hZdzooyhnlOT"
      },
      "execution_count": null,
      "outputs": []
    }
  ]
}