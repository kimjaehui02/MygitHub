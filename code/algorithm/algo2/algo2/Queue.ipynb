{
  "nbformat": 4,
  "nbformat_minor": 0,
  "metadata": {
    "colab": {
      "name": "4. [Ch 7. Queue].ipynb",
      "provenance": [],
      "collapsed_sections": []
    },
    "kernelspec": {
      "name": "python3",
      "display_name": "Python 3"
    },
    "language_info": {
      "name": "python"
    }
  },
  "cells": [
    {
      "cell_type": "code",
      "execution_count": 1,
      "metadata": {
        "id": "uIadtjcYwA2d"
      },
      "outputs": [],
      "source": [
        "class Deque:\n",
        "\tdef __init__(self):\n",
        "\t\tself.__queue = []\n",
        "\n",
        "\tdef enqueue(self, x):\n",
        "\t\tself.__queue.append(x)\n",
        "\n",
        "\tdef dequeue(self):\n",
        "\t\treturn self.__queue.pop(0) # .pop(0): 리스트의 첫 원소를 삭제한 후 원소 리턴\n",
        "\n",
        "\tdef front(self):\n",
        "\t\tif self.isEmpty():\n",
        "\t\t\treturn None\n",
        "\t\telse:\n",
        "\t\t\treturn self.__queue[0]\n",
        "\n",
        "\tdef isEmpty(self) -> bool:\n",
        "\t\treturn (len(self.__queue) == 0);\n",
        " \n",
        "\tdef dequeueAll(self):\n",
        "\t\tself.__queue.clear()\n",
        "\n",
        "\tdef printQueue(self):\n",
        "\t\tprint(\"Queue from front:\", end = ' ')\n",
        "\t\tfor i in range(len(self.__queue)):\n",
        "\t\t\tprint(self.__queue[i], end = ' ')\n",
        "\t\tprint()\n",
        "\t\n",
        "\tdef enqueueFront(self, x):\n",
        "\t\ta2 = []\n",
        "\t\tfor i in range(len(self.__queue)) :\n",
        "\t\t\ta2.append(self.front())\n",
        "\t\t\tself.dequeue()\n",
        "\t \n",
        "\t\tself.__queue.append(x)\n",
        "\t\n",
        "\t\tfor i in range(len(a2)) :\n",
        "\t\t\tself.enqueue(a2[i])\n",
        "\n",
        "\t\t\n",
        "\tdef enqueueRear(self, x):\n",
        "\t\tself.__queue.append(x)\n",
        "\n",
        "\tdef dequeueFront(self):\n",
        "\t\treturn self.__queue.pop(0)\n",
        "\n",
        "\tdef dequeueRear(self):\n",
        "\t\ta2 = []\n",
        "\t\tfor i in range(len(self.__queue)) :\n",
        "\t\t\ta2.append(self.front())\n",
        "\t\t\tself.dequeue()\n",
        "\t\n",
        "\t\tfor i in range(len(a2)-1) :\n",
        "\t\t\tself.enqueue(a2[i])\n",
        "\t \n",
        "\t\n",
        "\tdef Range(self) :\n",
        "\t\tprint(len(self.__queue))"
      ]
    },
    {
      "cell_type": "code",
      "source": [
        "q1 = Deque()\n",
        "q1.enqueueRear(\"1\")\n",
        "q1.enqueueRear(\"2\")\n",
        "q1.enqueueRear(\"3\")\n",
        "q1.enqueueRear(\"4\")\n",
        "q1.enqueueRear(\"5\")\n",
        "q1.printQueue()\n",
        "\n",
        "print(\"dequeueRear(뒤삭제)\")\n",
        "q1.dequeueRear()\n",
        "q1.printQueue()\n",
        "\n",
        "print(\"dequeueFront(앞삭제)\")\n",
        "q1.dequeueFront()\n",
        "q1.printQueue()\n",
        "\n",
        "print(\"enqueueFront(앞삽입)\")\n",
        "q1.enqueueFront(\"0\")\n",
        "q1.printQueue()\n",
        "\n",
        "print(\"enqueueRear(뒤삽입)\")\n",
        "q1.enqueueRear(\"5\")\n",
        "q1.printQueue()"
      ],
      "metadata": {
        "id": "WKcxPudSyg4u",
        "colab": {
          "base_uri": "https://localhost:8080/"
        },
        "outputId": "3fe4a15b-86bd-4d51-f816-4fc2834ef72a"
      },
      "execution_count": 2,
      "outputs": [
        {
          "output_type": "stream",
          "name": "stdout",
          "text": [
            "Queue from front: 1 2 3 4 5 \n",
            "dequeueRear(뒤삭제)\n",
            "Queue from front: 1 2 3 4 \n",
            "dequeueFront(앞삭제)\n",
            "Queue from front: 2 3 4 \n",
            "enqueueFront(앞삽입)\n",
            "Queue from front: 0 2 3 4 \n",
            "enqueueRear(뒤삽입)\n",
            "Queue from front: 0 2 3 4 5 \n"
          ]
        }
      ]
    }
  ]
}